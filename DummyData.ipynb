{
 "cells": [
  {
   "cell_type": "code",
   "execution_count": 8,
   "metadata": {},
   "outputs": [
    {
     "name": "stdout",
     "output_type": "stream",
     "text": [
      "        0   1    2\n",
      "0    uber  20  400\n",
      "1  taxify  40  500\n",
      "2  inaaga  60   90\n",
      "             0\n",
      "0  uber,20,400\n"
     ]
    }
   ],
   "source": [
    "import numpy as np\n",
    "import pandas as pd\n",
    "from pandas import Series, DataFrame\n",
    "\n",
    "dframe = pd.read_csv('demo.csv', header = None)\n",
    "dframe2 = pd.read_table('demo.csv', nrows=1, header= None)\n",
    "\n",
    "dframe3 = dframe2.to_csv ('output.csv', sep = ',', header = None)\n",
    "\n",
    "\n",
    "print (dframe)\n",
    "\n",
    "print(dframe2)"
   ]
  },
  {
   "cell_type": "code",
   "execution_count": 15,
   "metadata": {},
   "outputs": [
    {
     "name": "stdout",
     "output_type": "stream",
     "text": [
      "     Team 1  Team 2  Winner  Margin  Ground  Match Date  Scorecard\n",
      "1     False   False   False   False   False       False      False\n",
      "2     False   False   False   False   False       False      False\n",
      "3     False   False   False   False   False       False      False\n",
      "4     False   False   False   False   False       False      False\n",
      "5     False   False   False   False   False       False      False\n",
      "6     False   False   False   False   False       False      False\n",
      "7     False   False   False   False   False       False      False\n",
      "8     False   False   False   False   False       False      False\n",
      "9     False   False   False   False   False       False      False\n",
      "10    False   False   False   False   False       False      False\n",
      "11    False   False   False   False   False       False      False\n",
      "12    False   False   False   False   False       False      False\n",
      "13    False   False   False   False   False       False      False\n",
      "14    False   False   False   False   False       False      False\n",
      "15    False   False   False   False   False       False      False\n",
      "16    False   False   False   False   False       False      False\n",
      "17    False   False   False   False   False       False      False\n",
      "18    False   False   False   False   False       False      False\n",
      "19    False   False   False   False   False       False      False\n",
      "20    False   False   False   False   False       False      False\n",
      "21    False   False   False   False   False       False      False\n",
      "22    False   False   False   False   False       False      False\n",
      "23    False   False   False   False   False       False      False\n",
      "24    False   False   False   False   False       False      False\n",
      "25    False   False   False   False   False       False      False\n",
      "26    False   False   False   False   False       False      False\n",
      "27    False   False   False   False   False       False      False\n",
      "28    False   False   False   False   False       False      False\n",
      "29    False   False   False   False   False       False      False\n",
      "30    False   False   False   False   False       False      False\n",
      "..      ...     ...     ...     ...     ...         ...        ...\n",
      "99    False   False   False   False   False       False      False\n",
      "100   False   False   False   False   False       False      False\n",
      "101   False   False   False    True   False       False      False\n",
      "102   False   False   False   False   False       False      False\n",
      "103   False   False   False   False   False       False      False\n",
      "104   False   False   False   False   False       False      False\n",
      "105   False   False   False   False   False       False      False\n",
      "106   False   False   False   False   False       False      False\n",
      "107   False   False   False    True   False       False      False\n",
      "108   False   False   False   False   False       False      False\n",
      "109   False   False   False   False   False       False      False\n",
      "110   False   False   False   False   False       False      False\n",
      "111   False   False   False   False   False       False      False\n",
      "112   False   False   False   False   False       False      False\n",
      "113   False   False   False   False   False       False      False\n",
      "114   False   False   False    True   False       False      False\n",
      "115   False   False   False   False   False       False      False\n",
      "116   False   False   False   False   False       False      False\n",
      "117   False   False   False   False   False       False      False\n",
      "118   False   False   False   False   False       False      False\n",
      "119   False   False   False   False   False       False      False\n",
      "120   False   False   False   False   False       False      False\n",
      "121   False   False   False   False   False       False      False\n",
      "122   False   False   False   False   False       False      False\n",
      "123   False   False   False   False   False       False      False\n",
      "124   False   False   False   False   False       False      False\n",
      "125   False   False   False    True   False       False      False\n",
      "126   False   False   False   False   False       False      False\n",
      "127   False   False   False   False   False       False      False\n",
      "128   False   False   False   False   False       False      False\n",
      "\n",
      "[128 rows x 7 columns]\n"
     ]
    }
   ],
   "source": [
    "\n",
    "import numpy as np\n",
    "import pandas as pd\n",
    "from pandas import Series, DataFrame\n",
    "\n",
    "Data1 = pd.read_csv('CricketMatches.csv')\n",
    "Data1.index += 1\n",
    "print (Data1.isnull())\n",
    "#print (Data1)\n",
    "\n",
    "\n",
    "\n",
    "\n",
    "\n"
   ]
  },
  {
   "cell_type": "code",
   "execution_count": 3,
   "metadata": {},
   "outputs": [
    {
     "data": {
      "image/png": "[encoded data removed]",
      "text/plain": [
       "<matplotlib.figure.Figure at 0x7fb95c7fd5c0>"
      ]
     },
     "metadata": {},
     "output_type": "display_data"
    },
    {
     "data": {
      "image/png": "[encoded data removed]",
      "text/plain": [
       "<matplotlib.figure.Figure at 0x7fb95c75ca20>"
      ]
     },
     "metadata": {},
     "output_type": "display_data"
    },
    {
     "data": {
      "image/png": "[encoded data removed]",
      "text/plain": [
       "<matplotlib.figure.Figure at 0x7fb95c4aa4e0>"
      ]
     },
     "metadata": {},
     "output_type": "display_data"
    }
   ],
   "source": [
    "import matplotlib as mpl\n",
    "import matplotlib.pyplot as plt\n",
    "from scipy import stats\n",
    "import pandas as pd\n",
    "import seaborn as sns\n",
    "import numpy as np\n",
    "from numpy.random import randn\n",
    "\n",
    "ds1 = randn(1000)\n",
    "ds2 = randn(100)\n",
    "\n",
    "plt.hist(ds1)\n",
    "plt.savefig('image1.png')\n",
    "plt.show()\n",
    "\n",
    "plt.hist(ds2)\n",
    "plt.savefig('image2.png')\n",
    "plt.show()\n",
    "\n",
    "plt.hist(ds1,normed=True,color='green', bins=14, alpha=0.6)\n",
    "plt.hist(ds2, normed = True,color = 'red',bins =15, alpha = 0.6)\n",
    "plt.savefig('image3.png')\n",
    "plt.show()\n",
    "\n",
    "\n",
    "ds3 = randn(1000)\n",
    "ds4 = randn(1000)\n",
    "sns_plot = sns.jointplot(ds3,ds4)\n",
    "sns_plot.savefig('image3.png')\n",
    "\n",
    "sns_plot = sns.jointplot(ds3,ds4,)\n",
    "sns_plot.savefig('image4.png')\n",
    "\n",
    "\n",
    "\n",
    "\n"
   ]
  },
  {
   "cell_type": "markdown",
   "metadata": {
    "collapsed": true
   },
   "source": []
  },
  {
   "cell_type": "code",
   "execution_count": null,
   "metadata": {
    "collapsed": true
   },
   "outputs": [],
   "source": []
  },
  {
   "cell_type": "code",
   "execution_count": null,
   "metadata": {
    "collapsed": true
   },
   "outputs": [],
   "source": []
  },
  {
   "cell_type": "code",
   "execution_count": 34,
   "metadata": {},
   "outputs": [
    {
     "ename": "SyntaxError",
     "evalue": "invalid syntax (<ipython-input-34-28d642845416>, line 10)",
     "output_type": "error",
     "traceback": [
      "\u001b[0;36m  File \u001b[0;32m\"<ipython-input-34-28d642845416>\"\u001b[0;36m, line \u001b[0;32m10\u001b[0m\n\u001b[0;31m    Data1.rename(columns={'Team1':'Team2','Winner':'Margin','Ground':'Match_Date','Scorecard'},inplace=True)\u001b[0m\n\u001b[0m                                                                                             ^\u001b[0m\n\u001b[0;31mSyntaxError\u001b[0m\u001b[0;31m:\u001b[0m invalid syntax\n"
     ]
    }
   ],
   "source": [
    "import numpy as np\n",
    "import pandas as pd\n",
    "from pandas import Series, DataFrame\n",
    "\n",
    "Data1 = pd.read_csv('CricketMatches.csv')\n",
    "\n",
    "Data1.index +=1\n",
    "\n",
    "\n",
    "Data1.rename(columns={'Team1':'Team2','Winner':'Margin','Ground':'Match_Date','Scorecard'},inplace=True)\n",
    "\n",
    "print (Data1)\n",
    "\n",
    "\n",
    "\n",
    "\n",
    "\n",
    "\n",
    "\n"
   ]
  },
  {
   "cell_type": "code",
   "execution_count": null,
   "metadata": {
    "collapsed": true
   },
   "outputs": [],
   "source": []
  }
 ],
 "metadata": {
  "kernelspec": {
   "display_name": "Python 3",
   "language": "python",
   "name": "python3"
  },
  "language_info": {
   "codemirror_mode": {
    "name": "ipython",
    "version": 3
   },
   "file_extension": ".py",
   "mimetype": "text/x-python",
   "name": "python",
   "nbconvert_exporter": "python",
   "pygments_lexer": "ipython3",
   "version": "3.6.3"
  }
 },
 "nbformat": 4,
 "nbformat_minor": 2
}
